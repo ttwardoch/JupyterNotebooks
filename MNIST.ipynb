{
  "nbformat": 4,
  "nbformat_minor": 0,
  "metadata": {
    "colab": {
      "provenance": [],
      "gpuType": "T4"
    },
    "kernelspec": {
      "name": "python3",
      "display_name": "Python 3"
    },
    "language_info": {
      "name": "python"
    },
    "accelerator": "GPU",
    "widgets": {
      "application/vnd.jupyter.widget-state+json": {
        "8e7d44ea5d904462835bc160113605d2": {
          "model_module": "@jupyter-widgets/controls",
          "model_name": "HBoxModel",
          "model_module_version": "1.5.0",
          "state": {
            "_dom_classes": [],
            "_model_module": "@jupyter-widgets/controls",
            "_model_module_version": "1.5.0",
            "_model_name": "HBoxModel",
            "_view_count": null,
            "_view_module": "@jupyter-widgets/controls",
            "_view_module_version": "1.5.0",
            "_view_name": "HBoxView",
            "box_style": "",
            "children": [
              "IPY_MODEL_7479eeae0a5f43b3936a718ab5c58fbd",
              "IPY_MODEL_d606aff30f8142f69fe461b3baff2076",
              "IPY_MODEL_a4fd2d1e87e347f9854f59a3422d2b73"
            ],
            "layout": "IPY_MODEL_a9b2f4c32e06472996609c2785526913"
          }
        },
        "7479eeae0a5f43b3936a718ab5c58fbd": {
          "model_module": "@jupyter-widgets/controls",
          "model_name": "HTMLModel",
          "model_module_version": "1.5.0",
          "state": {
            "_dom_classes": [],
            "_model_module": "@jupyter-widgets/controls",
            "_model_module_version": "1.5.0",
            "_model_name": "HTMLModel",
            "_view_count": null,
            "_view_module": "@jupyter-widgets/controls",
            "_view_module_version": "1.5.0",
            "_view_name": "HTMLView",
            "description": "",
            "description_tooltip": null,
            "layout": "IPY_MODEL_1e038838371f46ce9adcd4ddfcc5b737",
            "placeholder": "​",
            "style": "IPY_MODEL_14c0b3176a2f4c1e8a33128db4a24fe7",
            "value": "100%"
          }
        },
        "d606aff30f8142f69fe461b3baff2076": {
          "model_module": "@jupyter-widgets/controls",
          "model_name": "FloatProgressModel",
          "model_module_version": "1.5.0",
          "state": {
            "_dom_classes": [],
            "_model_module": "@jupyter-widgets/controls",
            "_model_module_version": "1.5.0",
            "_model_name": "FloatProgressModel",
            "_view_count": null,
            "_view_module": "@jupyter-widgets/controls",
            "_view_module_version": "1.5.0",
            "_view_name": "ProgressView",
            "bar_style": "success",
            "description": "",
            "description_tooltip": null,
            "layout": "IPY_MODEL_69ba46c096714c32a74115f5e0da7c1c",
            "max": 10,
            "min": 0,
            "orientation": "horizontal",
            "style": "IPY_MODEL_2efb61eed6234e5baed08dffb49468ed",
            "value": 10
          }
        },
        "a4fd2d1e87e347f9854f59a3422d2b73": {
          "model_module": "@jupyter-widgets/controls",
          "model_name": "HTMLModel",
          "model_module_version": "1.5.0",
          "state": {
            "_dom_classes": [],
            "_model_module": "@jupyter-widgets/controls",
            "_model_module_version": "1.5.0",
            "_model_name": "HTMLModel",
            "_view_count": null,
            "_view_module": "@jupyter-widgets/controls",
            "_view_module_version": "1.5.0",
            "_view_name": "HTMLView",
            "description": "",
            "description_tooltip": null,
            "layout": "IPY_MODEL_9dd008e53f3c4cfda946bcc73d2cce99",
            "placeholder": "​",
            "style": "IPY_MODEL_41a4f0644a3d4bd4b7cfe9a6ea704b6d",
            "value": " 10/10 [02:29&lt;00:00, 15.14s/it]"
          }
        },
        "a9b2f4c32e06472996609c2785526913": {
          "model_module": "@jupyter-widgets/base",
          "model_name": "LayoutModel",
          "model_module_version": "1.2.0",
          "state": {
            "_model_module": "@jupyter-widgets/base",
            "_model_module_version": "1.2.0",
            "_model_name": "LayoutModel",
            "_view_count": null,
            "_view_module": "@jupyter-widgets/base",
            "_view_module_version": "1.2.0",
            "_view_name": "LayoutView",
            "align_content": null,
            "align_items": null,
            "align_self": null,
            "border": null,
            "bottom": null,
            "display": null,
            "flex": null,
            "flex_flow": null,
            "grid_area": null,
            "grid_auto_columns": null,
            "grid_auto_flow": null,
            "grid_auto_rows": null,
            "grid_column": null,
            "grid_gap": null,
            "grid_row": null,
            "grid_template_areas": null,
            "grid_template_columns": null,
            "grid_template_rows": null,
            "height": null,
            "justify_content": null,
            "justify_items": null,
            "left": null,
            "margin": null,
            "max_height": null,
            "max_width": null,
            "min_height": null,
            "min_width": null,
            "object_fit": null,
            "object_position": null,
            "order": null,
            "overflow": null,
            "overflow_x": null,
            "overflow_y": null,
            "padding": null,
            "right": null,
            "top": null,
            "visibility": null,
            "width": null
          }
        },
        "1e038838371f46ce9adcd4ddfcc5b737": {
          "model_module": "@jupyter-widgets/base",
          "model_name": "LayoutModel",
          "model_module_version": "1.2.0",
          "state": {
            "_model_module": "@jupyter-widgets/base",
            "_model_module_version": "1.2.0",
            "_model_name": "LayoutModel",
            "_view_count": null,
            "_view_module": "@jupyter-widgets/base",
            "_view_module_version": "1.2.0",
            "_view_name": "LayoutView",
            "align_content": null,
            "align_items": null,
            "align_self": null,
            "border": null,
            "bottom": null,
            "display": null,
            "flex": null,
            "flex_flow": null,
            "grid_area": null,
            "grid_auto_columns": null,
            "grid_auto_flow": null,
            "grid_auto_rows": null,
            "grid_column": null,
            "grid_gap": null,
            "grid_row": null,
            "grid_template_areas": null,
            "grid_template_columns": null,
            "grid_template_rows": null,
            "height": null,
            "justify_content": null,
            "justify_items": null,
            "left": null,
            "margin": null,
            "max_height": null,
            "max_width": null,
            "min_height": null,
            "min_width": null,
            "object_fit": null,
            "object_position": null,
            "order": null,
            "overflow": null,
            "overflow_x": null,
            "overflow_y": null,
            "padding": null,
            "right": null,
            "top": null,
            "visibility": null,
            "width": null
          }
        },
        "14c0b3176a2f4c1e8a33128db4a24fe7": {
          "model_module": "@jupyter-widgets/controls",
          "model_name": "DescriptionStyleModel",
          "model_module_version": "1.5.0",
          "state": {
            "_model_module": "@jupyter-widgets/controls",
            "_model_module_version": "1.5.0",
            "_model_name": "DescriptionStyleModel",
            "_view_count": null,
            "_view_module": "@jupyter-widgets/base",
            "_view_module_version": "1.2.0",
            "_view_name": "StyleView",
            "description_width": ""
          }
        },
        "69ba46c096714c32a74115f5e0da7c1c": {
          "model_module": "@jupyter-widgets/base",
          "model_name": "LayoutModel",
          "model_module_version": "1.2.0",
          "state": {
            "_model_module": "@jupyter-widgets/base",
            "_model_module_version": "1.2.0",
            "_model_name": "LayoutModel",
            "_view_count": null,
            "_view_module": "@jupyter-widgets/base",
            "_view_module_version": "1.2.0",
            "_view_name": "LayoutView",
            "align_content": null,
            "align_items": null,
            "align_self": null,
            "border": null,
            "bottom": null,
            "display": null,
            "flex": null,
            "flex_flow": null,
            "grid_area": null,
            "grid_auto_columns": null,
            "grid_auto_flow": null,
            "grid_auto_rows": null,
            "grid_column": null,
            "grid_gap": null,
            "grid_row": null,
            "grid_template_areas": null,
            "grid_template_columns": null,
            "grid_template_rows": null,
            "height": null,
            "justify_content": null,
            "justify_items": null,
            "left": null,
            "margin": null,
            "max_height": null,
            "max_width": null,
            "min_height": null,
            "min_width": null,
            "object_fit": null,
            "object_position": null,
            "order": null,
            "overflow": null,
            "overflow_x": null,
            "overflow_y": null,
            "padding": null,
            "right": null,
            "top": null,
            "visibility": null,
            "width": null
          }
        },
        "2efb61eed6234e5baed08dffb49468ed": {
          "model_module": "@jupyter-widgets/controls",
          "model_name": "ProgressStyleModel",
          "model_module_version": "1.5.0",
          "state": {
            "_model_module": "@jupyter-widgets/controls",
            "_model_module_version": "1.5.0",
            "_model_name": "ProgressStyleModel",
            "_view_count": null,
            "_view_module": "@jupyter-widgets/base",
            "_view_module_version": "1.2.0",
            "_view_name": "StyleView",
            "bar_color": null,
            "description_width": ""
          }
        },
        "9dd008e53f3c4cfda946bcc73d2cce99": {
          "model_module": "@jupyter-widgets/base",
          "model_name": "LayoutModel",
          "model_module_version": "1.2.0",
          "state": {
            "_model_module": "@jupyter-widgets/base",
            "_model_module_version": "1.2.0",
            "_model_name": "LayoutModel",
            "_view_count": null,
            "_view_module": "@jupyter-widgets/base",
            "_view_module_version": "1.2.0",
            "_view_name": "LayoutView",
            "align_content": null,
            "align_items": null,
            "align_self": null,
            "border": null,
            "bottom": null,
            "display": null,
            "flex": null,
            "flex_flow": null,
            "grid_area": null,
            "grid_auto_columns": null,
            "grid_auto_flow": null,
            "grid_auto_rows": null,
            "grid_column": null,
            "grid_gap": null,
            "grid_row": null,
            "grid_template_areas": null,
            "grid_template_columns": null,
            "grid_template_rows": null,
            "height": null,
            "justify_content": null,
            "justify_items": null,
            "left": null,
            "margin": null,
            "max_height": null,
            "max_width": null,
            "min_height": null,
            "min_width": null,
            "object_fit": null,
            "object_position": null,
            "order": null,
            "overflow": null,
            "overflow_x": null,
            "overflow_y": null,
            "padding": null,
            "right": null,
            "top": null,
            "visibility": null,
            "width": null
          }
        },
        "41a4f0644a3d4bd4b7cfe9a6ea704b6d": {
          "model_module": "@jupyter-widgets/controls",
          "model_name": "DescriptionStyleModel",
          "model_module_version": "1.5.0",
          "state": {
            "_model_module": "@jupyter-widgets/controls",
            "_model_module_version": "1.5.0",
            "_model_name": "DescriptionStyleModel",
            "_view_count": null,
            "_view_module": "@jupyter-widgets/base",
            "_view_module_version": "1.2.0",
            "_view_name": "StyleView",
            "description_width": ""
          }
        },
        "f7d3266ef48c4e159eadb04868682a78": {
          "model_module": "@jupyter-widgets/controls",
          "model_name": "HBoxModel",
          "model_module_version": "1.5.0",
          "state": {
            "_dom_classes": [],
            "_model_module": "@jupyter-widgets/controls",
            "_model_module_version": "1.5.0",
            "_model_name": "HBoxModel",
            "_view_count": null,
            "_view_module": "@jupyter-widgets/controls",
            "_view_module_version": "1.5.0",
            "_view_name": "HBoxView",
            "box_style": "",
            "children": [
              "IPY_MODEL_d6e72aa3750646a8a617142ba81ff8be",
              "IPY_MODEL_0353b4cdba1142a9972d41fdd582725d",
              "IPY_MODEL_a49c5cd122c941f7b7002ea329b83291"
            ],
            "layout": "IPY_MODEL_7b85f478035a42d0a5ac3492dfb3b52e"
          }
        },
        "d6e72aa3750646a8a617142ba81ff8be": {
          "model_module": "@jupyter-widgets/controls",
          "model_name": "HTMLModel",
          "model_module_version": "1.5.0",
          "state": {
            "_dom_classes": [],
            "_model_module": "@jupyter-widgets/controls",
            "_model_module_version": "1.5.0",
            "_model_name": "HTMLModel",
            "_view_count": null,
            "_view_module": "@jupyter-widgets/controls",
            "_view_module_version": "1.5.0",
            "_view_name": "HTMLView",
            "description": "",
            "description_tooltip": null,
            "layout": "IPY_MODEL_6fd4b4b5cf9e47faaebc3d0a35784103",
            "placeholder": "​",
            "style": "IPY_MODEL_bd86f409d208477590fd538daf9a491f",
            "value": "100%"
          }
        },
        "0353b4cdba1142a9972d41fdd582725d": {
          "model_module": "@jupyter-widgets/controls",
          "model_name": "FloatProgressModel",
          "model_module_version": "1.5.0",
          "state": {
            "_dom_classes": [],
            "_model_module": "@jupyter-widgets/controls",
            "_model_module_version": "1.5.0",
            "_model_name": "FloatProgressModel",
            "_view_count": null,
            "_view_module": "@jupyter-widgets/controls",
            "_view_module_version": "1.5.0",
            "_view_name": "ProgressView",
            "bar_style": "success",
            "description": "",
            "description_tooltip": null,
            "layout": "IPY_MODEL_bb64949334524732a87d910ab2dee387",
            "max": 10000,
            "min": 0,
            "orientation": "horizontal",
            "style": "IPY_MODEL_14b1d85bcb78403c9b41f55191e4dfbd",
            "value": 10000
          }
        },
        "a49c5cd122c941f7b7002ea329b83291": {
          "model_module": "@jupyter-widgets/controls",
          "model_name": "HTMLModel",
          "model_module_version": "1.5.0",
          "state": {
            "_dom_classes": [],
            "_model_module": "@jupyter-widgets/controls",
            "_model_module_version": "1.5.0",
            "_model_name": "HTMLModel",
            "_view_count": null,
            "_view_module": "@jupyter-widgets/controls",
            "_view_module_version": "1.5.0",
            "_view_name": "HTMLView",
            "description": "",
            "description_tooltip": null,
            "layout": "IPY_MODEL_b3da6f390afb44a78558491c31397c5c",
            "placeholder": "​",
            "style": "IPY_MODEL_cedcc97cd1924c6fb6068720c5750b01",
            "value": " 10000/10000 [00:10&lt;00:00, 1007.10it/s]"
          }
        },
        "7b85f478035a42d0a5ac3492dfb3b52e": {
          "model_module": "@jupyter-widgets/base",
          "model_name": "LayoutModel",
          "model_module_version": "1.2.0",
          "state": {
            "_model_module": "@jupyter-widgets/base",
            "_model_module_version": "1.2.0",
            "_model_name": "LayoutModel",
            "_view_count": null,
            "_view_module": "@jupyter-widgets/base",
            "_view_module_version": "1.2.0",
            "_view_name": "LayoutView",
            "align_content": null,
            "align_items": null,
            "align_self": null,
            "border": null,
            "bottom": null,
            "display": null,
            "flex": null,
            "flex_flow": null,
            "grid_area": null,
            "grid_auto_columns": null,
            "grid_auto_flow": null,
            "grid_auto_rows": null,
            "grid_column": null,
            "grid_gap": null,
            "grid_row": null,
            "grid_template_areas": null,
            "grid_template_columns": null,
            "grid_template_rows": null,
            "height": null,
            "justify_content": null,
            "justify_items": null,
            "left": null,
            "margin": null,
            "max_height": null,
            "max_width": null,
            "min_height": null,
            "min_width": null,
            "object_fit": null,
            "object_position": null,
            "order": null,
            "overflow": null,
            "overflow_x": null,
            "overflow_y": null,
            "padding": null,
            "right": null,
            "top": null,
            "visibility": null,
            "width": null
          }
        },
        "6fd4b4b5cf9e47faaebc3d0a35784103": {
          "model_module": "@jupyter-widgets/base",
          "model_name": "LayoutModel",
          "model_module_version": "1.2.0",
          "state": {
            "_model_module": "@jupyter-widgets/base",
            "_model_module_version": "1.2.0",
            "_model_name": "LayoutModel",
            "_view_count": null,
            "_view_module": "@jupyter-widgets/base",
            "_view_module_version": "1.2.0",
            "_view_name": "LayoutView",
            "align_content": null,
            "align_items": null,
            "align_self": null,
            "border": null,
            "bottom": null,
            "display": null,
            "flex": null,
            "flex_flow": null,
            "grid_area": null,
            "grid_auto_columns": null,
            "grid_auto_flow": null,
            "grid_auto_rows": null,
            "grid_column": null,
            "grid_gap": null,
            "grid_row": null,
            "grid_template_areas": null,
            "grid_template_columns": null,
            "grid_template_rows": null,
            "height": null,
            "justify_content": null,
            "justify_items": null,
            "left": null,
            "margin": null,
            "max_height": null,
            "max_width": null,
            "min_height": null,
            "min_width": null,
            "object_fit": null,
            "object_position": null,
            "order": null,
            "overflow": null,
            "overflow_x": null,
            "overflow_y": null,
            "padding": null,
            "right": null,
            "top": null,
            "visibility": null,
            "width": null
          }
        },
        "bd86f409d208477590fd538daf9a491f": {
          "model_module": "@jupyter-widgets/controls",
          "model_name": "DescriptionStyleModel",
          "model_module_version": "1.5.0",
          "state": {
            "_model_module": "@jupyter-widgets/controls",
            "_model_module_version": "1.5.0",
            "_model_name": "DescriptionStyleModel",
            "_view_count": null,
            "_view_module": "@jupyter-widgets/base",
            "_view_module_version": "1.2.0",
            "_view_name": "StyleView",
            "description_width": ""
          }
        },
        "bb64949334524732a87d910ab2dee387": {
          "model_module": "@jupyter-widgets/base",
          "model_name": "LayoutModel",
          "model_module_version": "1.2.0",
          "state": {
            "_model_module": "@jupyter-widgets/base",
            "_model_module_version": "1.2.0",
            "_model_name": "LayoutModel",
            "_view_count": null,
            "_view_module": "@jupyter-widgets/base",
            "_view_module_version": "1.2.0",
            "_view_name": "LayoutView",
            "align_content": null,
            "align_items": null,
            "align_self": null,
            "border": null,
            "bottom": null,
            "display": null,
            "flex": null,
            "flex_flow": null,
            "grid_area": null,
            "grid_auto_columns": null,
            "grid_auto_flow": null,
            "grid_auto_rows": null,
            "grid_column": null,
            "grid_gap": null,
            "grid_row": null,
            "grid_template_areas": null,
            "grid_template_columns": null,
            "grid_template_rows": null,
            "height": null,
            "justify_content": null,
            "justify_items": null,
            "left": null,
            "margin": null,
            "max_height": null,
            "max_width": null,
            "min_height": null,
            "min_width": null,
            "object_fit": null,
            "object_position": null,
            "order": null,
            "overflow": null,
            "overflow_x": null,
            "overflow_y": null,
            "padding": null,
            "right": null,
            "top": null,
            "visibility": null,
            "width": null
          }
        },
        "14b1d85bcb78403c9b41f55191e4dfbd": {
          "model_module": "@jupyter-widgets/controls",
          "model_name": "ProgressStyleModel",
          "model_module_version": "1.5.0",
          "state": {
            "_model_module": "@jupyter-widgets/controls",
            "_model_module_version": "1.5.0",
            "_model_name": "ProgressStyleModel",
            "_view_count": null,
            "_view_module": "@jupyter-widgets/base",
            "_view_module_version": "1.2.0",
            "_view_name": "StyleView",
            "bar_color": null,
            "description_width": ""
          }
        },
        "b3da6f390afb44a78558491c31397c5c": {
          "model_module": "@jupyter-widgets/base",
          "model_name": "LayoutModel",
          "model_module_version": "1.2.0",
          "state": {
            "_model_module": "@jupyter-widgets/base",
            "_model_module_version": "1.2.0",
            "_model_name": "LayoutModel",
            "_view_count": null,
            "_view_module": "@jupyter-widgets/base",
            "_view_module_version": "1.2.0",
            "_view_name": "LayoutView",
            "align_content": null,
            "align_items": null,
            "align_self": null,
            "border": null,
            "bottom": null,
            "display": null,
            "flex": null,
            "flex_flow": null,
            "grid_area": null,
            "grid_auto_columns": null,
            "grid_auto_flow": null,
            "grid_auto_rows": null,
            "grid_column": null,
            "grid_gap": null,
            "grid_row": null,
            "grid_template_areas": null,
            "grid_template_columns": null,
            "grid_template_rows": null,
            "height": null,
            "justify_content": null,
            "justify_items": null,
            "left": null,
            "margin": null,
            "max_height": null,
            "max_width": null,
            "min_height": null,
            "min_width": null,
            "object_fit": null,
            "object_position": null,
            "order": null,
            "overflow": null,
            "overflow_x": null,
            "overflow_y": null,
            "padding": null,
            "right": null,
            "top": null,
            "visibility": null,
            "width": null
          }
        },
        "cedcc97cd1924c6fb6068720c5750b01": {
          "model_module": "@jupyter-widgets/controls",
          "model_name": "DescriptionStyleModel",
          "model_module_version": "1.5.0",
          "state": {
            "_model_module": "@jupyter-widgets/controls",
            "_model_module_version": "1.5.0",
            "_model_name": "DescriptionStyleModel",
            "_view_count": null,
            "_view_module": "@jupyter-widgets/base",
            "_view_module_version": "1.2.0",
            "_view_name": "StyleView",
            "description_width": ""
          }
        }
      }
    }
  },
  "cells": [
    {
      "cell_type": "code",
      "execution_count": 51,
      "metadata": {
        "colab": {
          "base_uri": "https://localhost:8080/",
          "height": 36
        },
        "id": "Ghl09eEqC3cW",
        "outputId": "a731b545-0b34-4f74-b074-c4489c49d743"
      },
      "outputs": [
        {
          "output_type": "execute_result",
          "data": {
            "text/plain": [
              "'cuda'"
            ],
            "application/vnd.google.colaboratory.intrinsic+json": {
              "type": "string"
            }
          },
          "metadata": {},
          "execution_count": 51
        }
      ],
      "source": [
        "import torch\n",
        "from torch import nn\n",
        "from torch.utils.data import DataLoader\n",
        "\n",
        "import torchvision\n",
        "from torchvision import datasets\n",
        "from torchvision import transforms\n",
        "from torchvision.transforms import ToTensor\n",
        "from torchvision.transforms import v2\n",
        "\n",
        "try:\n",
        "  from torchmetrics import ConfusionMatrix\n",
        "except:\n",
        "  !pip install torchmetrics\n",
        "  from torchmetrics import ConfusionMatrix\n",
        "\n",
        "try:\n",
        "    from torchinfo import summary\n",
        "except:\n",
        "    !pip install -q torchinfo\n",
        "    from torchinfo import summary\n",
        "\n",
        "try:\n",
        "  from mlxtend.plotting import plot_confusion_matrix\n",
        "except:\n",
        "  !pip install mlxtend\n",
        "  from mlxtend.plotting import plot_confusion_matrix\n",
        "\n",
        "import matplotlib.pyplot as plt\n",
        "import numpy as np\n",
        "import pandas as pd\n",
        "\n",
        "torch.manual_seed(7)\n",
        "\n",
        "def accuracy_fn(y_true, y_pred):\n",
        "  correct = torch.eq(y_true, y_pred).sum().item()\n",
        "  return correct/len(y_pred)*100\n",
        "\n",
        "device = 'cuda' if torch.cuda.is_available() else \"cpu\"\n",
        "device"
      ]
    },
    {
      "cell_type": "markdown",
      "source": [
        "# Dataset"
      ],
      "metadata": {
        "id": "QG-0s6ELDGV1"
      }
    },
    {
      "cell_type": "code",
      "source": [
        "train_transform = v2.Compose([\n",
        "    #v2.RandomPerspective(distortion_scale=0.3, p=0.5),\n",
        "    #v2.RandomRotation(degrees=(-30, 30), interpolation=torchvision.transforms.InterpolationMode.BILINEAR),\n",
        "    v2.ToTensor()\n",
        "])\n",
        "\n",
        "test_transform = v2.Compose([\n",
        "    v2.ToTensor()\n",
        "])"
      ],
      "metadata": {
        "colab": {
          "base_uri": "https://localhost:8080/"
        },
        "id": "uphCZK0UNhP1",
        "outputId": "6cc1e775-6159-48e0-b8d7-aa9e4a21cbca"
      },
      "execution_count": 36,
      "outputs": [
        {
          "output_type": "stream",
          "name": "stderr",
          "text": [
            "/usr/local/lib/python3.10/dist-packages/torchvision/transforms/v2/_deprecated.py:42: UserWarning: The transform `ToTensor()` is deprecated and will be removed in a future release. Instead, please use `v2.Compose([v2.ToImage(), v2.ToDtype(torch.float32, scale=True)])`.Output is equivalent up to float precision.\n",
            "  warnings.warn(\n"
          ]
        }
      ]
    },
    {
      "cell_type": "code",
      "source": [
        "train_data = datasets.MNIST(root=\"data\", train=True, transform=train_transform, target_transform=None, download=True)\n",
        "test_data = datasets.MNIST(root=\"data\", train=False, transform=test_transform, target_transform=None, download=True)\n",
        "\n",
        "len(train_data.data), len(train_data.targets), len(test_data.data), len(test_data.targets)"
      ],
      "metadata": {
        "colab": {
          "base_uri": "https://localhost:8080/"
        },
        "id": "8gXyA69KDFf6",
        "outputId": "53c495fa-916a-45a9-c70c-43de91f155a9"
      },
      "execution_count": 37,
      "outputs": [
        {
          "output_type": "execute_result",
          "data": {
            "text/plain": [
              "(60000, 60000, 10000, 10000)"
            ]
          },
          "metadata": {},
          "execution_count": 37
        }
      ]
    },
    {
      "cell_type": "code",
      "source": [
        "classes = train_data.classes\n",
        "classes_to_idx = train_data.class_to_idx\n",
        "classes, classes_to_idx"
      ],
      "metadata": {
        "colab": {
          "base_uri": "https://localhost:8080/"
        },
        "id": "sSO-d4ELDPHG",
        "outputId": "5355ae13-701f-43c5-c1ee-577747475d72"
      },
      "execution_count": 38,
      "outputs": [
        {
          "output_type": "execute_result",
          "data": {
            "text/plain": [
              "(['0 - zero',\n",
              "  '1 - one',\n",
              "  '2 - two',\n",
              "  '3 - three',\n",
              "  '4 - four',\n",
              "  '5 - five',\n",
              "  '6 - six',\n",
              "  '7 - seven',\n",
              "  '8 - eight',\n",
              "  '9 - nine'],\n",
              " {'0 - zero': 0,\n",
              "  '1 - one': 1,\n",
              "  '2 - two': 2,\n",
              "  '3 - three': 3,\n",
              "  '4 - four': 4,\n",
              "  '5 - five': 5,\n",
              "  '6 - six': 6,\n",
              "  '7 - seven': 7,\n",
              "  '8 - eight': 8,\n",
              "  '9 - nine': 9})"
            ]
          },
          "metadata": {},
          "execution_count": 38
        }
      ]
    },
    {
      "cell_type": "markdown",
      "source": [
        "# Show data"
      ],
      "metadata": {
        "id": "dXIz2OZWDSLa"
      }
    },
    {
      "cell_type": "code",
      "source": [
        "fig = plt.figure(figsize=(9, 9))\n",
        "rows, cols = 4, 4\n",
        "for i in range(1, rows*cols+1):\n",
        "  random_idx = torch.randint(0, len(train_data), size=[1]).item()\n",
        "  (image, label) = train_data[random_idx]\n",
        "  fig.add_subplot(rows, cols, i)\n",
        "  image = train_transform(image)\n",
        "  plt.imshow(image.permute(1, 2, 0), cmap=\"gray\")\n",
        "  plt.title(classes[label])\n",
        "  plt.axis(False)"
      ],
      "metadata": {
        "colab": {
          "base_uri": "https://localhost:8080/",
          "height": 752
        },
        "id": "HNjEQ2shDTzJ",
        "outputId": "7e63d67c-b28b-4c95-ba73-3abd2f46d252"
      },
      "execution_count": 39,
      "outputs": [
        {
          "output_type": "display_data",
          "data": {
            "text/plain": [
              "<Figure size 900x900 with 16 Axes>"
            ],
            "image/png": "[encoded data removed]"
          },
          "metadata": {}
        }
      ]
    },
    {
      "cell_type": "markdown",
      "source": [
        "# Dataloader"
      ],
      "metadata": {
        "id": "U3H9KURgDaTu"
      }
    },
    {
      "cell_type": "code",
      "source": [
        "BATCH_SIZE = 32\n",
        "\n",
        "train_dataloader = DataLoader(train_data, batch_size=BATCH_SIZE, shuffle=True)\n",
        "test_dataloader = DataLoader(test_data, batch_size=BATCH_SIZE, shuffle=False)"
      ],
      "metadata": {
        "id": "l6rcdFr4Dcj-"
      },
      "execution_count": 40,
      "outputs": []
    },
    {
      "cell_type": "markdown",
      "source": [
        "# Models"
      ],
      "metadata": {
        "id": "RejyJ-6sOSfN"
      }
    },
    {
      "cell_type": "code",
      "source": [
        "class TinyMNIST(nn.Module):\n",
        "  def __init__(self):\n",
        "    super().__init__()\n",
        "\n",
        "    hidden = 40\n",
        "    kernel = 3\n",
        "\n",
        "    self.conv_block_1 = nn.Sequential(\n",
        "        nn.Conv2d(1, hidden, 3, stride=1, padding=1, dilation=1, groups=1, bias=True, padding_mode='zeros', device=None, dtype=None),\n",
        "        nn.ReLU()\n",
        "    )\n",
        "    self.conv_block_2 = nn.Sequential(\n",
        "        nn.Conv2d(hidden, hidden, 3, stride=1, padding=1, dilation=1, groups=1, bias=True, padding_mode='zeros', device=None, dtype=None),\n",
        "        nn.ReLU(),\n",
        "        nn.MaxPool2d(kernel_size=2)\n",
        "    )\n",
        "    self.conv_block_3 = nn.Sequential(\n",
        "        nn.Conv2d(hidden, hidden, 3, stride=1, padding=1, dilation=1, groups=1, bias=True, padding_mode='zeros', device=None, dtype=None),\n",
        "        nn.ReLU()\n",
        "    )\n",
        "    self.conv_block_4 = nn.Sequential(\n",
        "        nn.Conv2d(hidden, hidden, 3, stride=1, padding=1, dilation=1, groups=1, bias=True, padding_mode='zeros', device=None, dtype=None),\n",
        "        nn.ReLU(),\n",
        "        nn.MaxPool2d(kernel_size=2)\n",
        "    )\n",
        "    self.output = nn.Sequential(\n",
        "        nn.Flatten(),\n",
        "        nn.Linear(hidden*7*7, 10)\n",
        "    )\n",
        "\n",
        "  def forward(self, x: torch.Tensor) -> torch.Tensor:\n",
        "    return self.output(self.conv_block_4(self.conv_block_3(self.conv_block_2(self.conv_block_1(x)))))"
      ],
      "metadata": {
        "id": "7ZpGXMCRDngJ"
      },
      "execution_count": 41,
      "outputs": []
    },
    {
      "cell_type": "code",
      "source": [
        "model = TinyMNIST().to(device)"
      ],
      "metadata": {
        "id": "A_IvKa_8DuBL"
      },
      "execution_count": 42,
      "outputs": []
    },
    {
      "cell_type": "code",
      "source": [
        "from torchinfo import summary\n",
        "\n",
        "summary(model=TinyMNIST(), input_size = (1, 1, 28, 28), col_names=[\"input_size\", \"output_size\", \"num_params\", \"trainable\"], col_width=20, row_settings=[\"var_names\"])"
      ],
      "metadata": {
        "colab": {
          "base_uri": "https://localhost:8080/"
        },
        "id": "QOrzfRXiCn66",
        "outputId": "7acfe4d3-9587-44d8-f358-51905832803e"
      },
      "execution_count": 55,
      "outputs": [
        {
          "output_type": "execute_result",
          "data": {
            "text/plain": [
              "========================================================================================================================\n",
              "Layer (type (var_name))                  Input Shape          Output Shape         Param #              Trainable\n",
              "========================================================================================================================\n",
              "TinyMNIST (TinyMNIST)                    [1, 1, 28, 28]       [1, 10]              --                   True\n",
              "├─Sequential (conv_block_1)              [1, 1, 28, 28]       [1, 40, 28, 28]      --                   True\n",
              "│    └─Conv2d (0)                        [1, 1, 28, 28]       [1, 40, 28, 28]      400                  True\n",
              "│    └─ReLU (1)                          [1, 40, 28, 28]      [1, 40, 28, 28]      --                   --\n",
              "├─Sequential (conv_block_2)              [1, 40, 28, 28]      [1, 40, 14, 14]      --                   True\n",
              "│    └─Conv2d (0)                        [1, 40, 28, 28]      [1, 40, 28, 28]      14,440               True\n",
              "│    └─ReLU (1)                          [1, 40, 28, 28]      [1, 40, 28, 28]      --                   --\n",
              "│    └─MaxPool2d (2)                     [1, 40, 28, 28]      [1, 40, 14, 14]      --                   --\n",
              "├─Sequential (conv_block_3)              [1, 40, 14, 14]      [1, 40, 14, 14]      --                   True\n",
              "│    └─Conv2d (0)                        [1, 40, 14, 14]      [1, 40, 14, 14]      14,440               True\n",
              "│    └─ReLU (1)                          [1, 40, 14, 14]      [1, 40, 14, 14]      --                   --\n",
              "├─Sequential (conv_block_4)              [1, 40, 14, 14]      [1, 40, 7, 7]        --                   True\n",
              "│    └─Conv2d (0)                        [1, 40, 14, 14]      [1, 40, 14, 14]      14,440               True\n",
              "│    └─ReLU (1)                          [1, 40, 14, 14]      [1, 40, 14, 14]      --                   --\n",
              "│    └─MaxPool2d (2)                     [1, 40, 14, 14]      [1, 40, 7, 7]        --                   --\n",
              "├─Sequential (output)                    [1, 40, 7, 7]        [1, 10]              --                   True\n",
              "│    └─Flatten (0)                       [1, 40, 7, 7]        [1, 1960]            --                   --\n",
              "│    └─Linear (1)                        [1, 1960]            [1, 10]              19,610               True\n",
              "========================================================================================================================\n",
              "Total params: 63,330\n",
              "Trainable params: 63,330\n",
              "Non-trainable params: 0\n",
              "Total mult-adds (M): 17.31\n",
              "========================================================================================================================\n",
              "Input size (MB): 0.00\n",
              "Forward/backward pass size (MB): 0.63\n",
              "Params size (MB): 0.25\n",
              "Estimated Total Size (MB): 0.88\n",
              "========================================================================================================================"
            ]
          },
          "metadata": {},
          "execution_count": 55
        }
      ]
    },
    {
      "cell_type": "markdown",
      "source": [
        "# Training"
      ],
      "metadata": {
        "id": "KFD0j8VTDxmr"
      }
    },
    {
      "cell_type": "code",
      "source": [
        "loss_fn = nn.CrossEntropyLoss()\n",
        "\n",
        "optimizer = torch.optim.Adam(model.parameters(), lr=0.001, betas=(0.9, 0.999), eps=1e-08)"
      ],
      "metadata": {
        "id": "FS_P5DmaDwsp"
      },
      "execution_count": 43,
      "outputs": []
    },
    {
      "cell_type": "code",
      "source": [
        "from tqdm.auto import tqdm\n",
        "import time\n",
        "\n",
        "train_losses = []\n",
        "test_losses = []\n",
        "test_accuracies = []"
      ],
      "metadata": {
        "id": "Q1-WwO9_D3Ik"
      },
      "execution_count": 44,
      "outputs": []
    },
    {
      "cell_type": "code",
      "source": [
        "epochs = 10\n",
        "program_starts = time.time()\n",
        "for epoch in tqdm(range(epochs)):\n",
        "  train_loss = 0\n",
        "  for batch, (X, y) in enumerate(train_dataloader):\n",
        "    model.train()\n",
        "    X=X.to(device)\n",
        "    y=y.to(device)\n",
        "    y_pred = model(X)\n",
        "\n",
        "    loss = loss_fn(y_pred, y)\n",
        "    train_loss += loss\n",
        "\n",
        "    optimizer.zero_grad()\n",
        "\n",
        "    loss.backward()\n",
        "\n",
        "    optimizer.step()\n",
        "\n",
        "    #if batch%400 == 0:\n",
        "      #print(f\"Batch: {batch}/{len(train_dataloader)}\")\n",
        "\n",
        "  train_loss /= len(train_dataloader)\n",
        "  train_losses.append(train_loss.cpu().detach().numpy())\n",
        "\n",
        "  model.eval()\n",
        "  test_loss = 0\n",
        "  test_accuracy = 0\n",
        "  with torch.inference_mode():\n",
        "    for X, y in test_dataloader:\n",
        "      X=X.to(device)\n",
        "      y=y.to(device)\n",
        "      test_pred = model(X)\n",
        "\n",
        "      test_loss += loss_fn(test_pred, y)\n",
        "      test_accuracy += accuracy_fn(y, test_pred.argmax(dim=1))\n",
        "\n",
        "\n",
        "    test_loss /= len(test_dataloader)\n",
        "    test_losses.append(test_loss.cpu())\n",
        "\n",
        "    test_accuracy /= len(test_dataloader)\n",
        "    test_accuracies.append(test_accuracy)\n",
        "\n",
        "  print(f\"Epoch: {epoch+1} | Loss: {train_loss} | Test acc: {test_accuracy}%\")\n",
        "\n",
        "\n",
        "program_ends = time.time()\n",
        "\n",
        "print(f\"Elapsed: {program_ends-program_starts}s\")"
      ],
      "metadata": {
        "id": "4OOTFcWqD67e",
        "colab": {
          "base_uri": "https://localhost:8080/",
          "height": 252,
          "referenced_widgets": [
            "8e7d44ea5d904462835bc160113605d2",
            "7479eeae0a5f43b3936a718ab5c58fbd",
            "d606aff30f8142f69fe461b3baff2076",
            "a4fd2d1e87e347f9854f59a3422d2b73",
            "a9b2f4c32e06472996609c2785526913",
            "1e038838371f46ce9adcd4ddfcc5b737",
            "14c0b3176a2f4c1e8a33128db4a24fe7",
            "69ba46c096714c32a74115f5e0da7c1c",
            "2efb61eed6234e5baed08dffb49468ed",
            "9dd008e53f3c4cfda946bcc73d2cce99",
            "41a4f0644a3d4bd4b7cfe9a6ea704b6d"
          ]
        },
        "outputId": "890ad8c6-d2dc-426e-ea30-5072e8022ad1"
      },
      "execution_count": 45,
      "outputs": [
        {
          "output_type": "display_data",
          "data": {
            "text/plain": [
              "  0%|          | 0/10 [00:00<?, ?it/s]"
            ],
            "application/vnd.jupyter.widget-view+json": {
              "version_major": 2,
              "version_minor": 0,
              "model_id": "8e7d44ea5d904462835bc160113605d2"
            }
          },
          "metadata": {}
        },
        {
          "output_type": "stream",
          "name": "stdout",
          "text": [
            "Epoch: 1 | Loss: 0.13192243874073029 | Test acc: 98.39257188498402%\n",
            "Epoch: 2 | Loss: 0.045267440378665924 | Test acc: 98.93170926517571%\n",
            "Epoch: 3 | Loss: 0.03299892693758011 | Test acc: 99.15135782747603%\n",
            "Epoch: 4 | Loss: 0.023667069151997566 | Test acc: 98.77196485623003%\n",
            "Epoch: 5 | Loss: 0.020254500210285187 | Test acc: 99.11142172523962%\n",
            "Epoch: 6 | Loss: 0.015881594270467758 | Test acc: 99.19129392971246%\n",
            "Epoch: 7 | Loss: 0.014013461768627167 | Test acc: 99.15135782747603%\n",
            "Epoch: 8 | Loss: 0.01113806664943695 | Test acc: 99.22124600638978%\n",
            "Epoch: 9 | Loss: 0.009703552350401878 | Test acc: 99.19129392971246%\n",
            "Epoch: 10 | Loss: 0.009901120327413082 | Test acc: 99.17132587859425%\n",
            "Elapsed: 149.9323012828827s\n"
          ]
        }
      ]
    },
    {
      "cell_type": "markdown",
      "source": [
        "# Plots"
      ],
      "metadata": {
        "id": "USge1eUfEDWv"
      }
    },
    {
      "cell_type": "code",
      "source": [
        "plt.plot(test_losses, label=\"test\")\n",
        "plt.plot(train_losses, label=\"train\")\n",
        "plt.legend()\n",
        "plt.show()"
      ],
      "metadata": {
        "id": "K1Wf0HD-EJs4",
        "colab": {
          "base_uri": "https://localhost:8080/",
          "height": 430
        },
        "outputId": "b320da6f-f7df-4483-b5b1-7437485b56de"
      },
      "execution_count": 46,
      "outputs": [
        {
          "output_type": "display_data",
          "data": {
            "text/plain": [
              "<Figure size 640x480 with 1 Axes>"
            ],
            "image/png": "[encoded data removed]"
          },
          "metadata": {}
        }
      ]
    },
    {
      "cell_type": "code",
      "source": [
        "#plt.plot(train_accuracies, label=\"train\")\n",
        "plt.plot(test_accuracies, label=\"test\")\n",
        "plt.legend()\n",
        "plt.show()"
      ],
      "metadata": {
        "id": "JsExp9ZXEE9G",
        "colab": {
          "base_uri": "https://localhost:8080/",
          "height": 430
        },
        "outputId": "f8da1101-2d7e-4646-bf2f-af6e791f2259"
      },
      "execution_count": 47,
      "outputs": [
        {
          "output_type": "display_data",
          "data": {
            "text/plain": [
              "<Figure size 640x480 with 1 Axes>"
            ],
            "image/png": "[encoded data removed]"
          },
          "metadata": {}
        }
      ]
    },
    {
      "cell_type": "markdown",
      "source": [
        "# Predictions"
      ],
      "metadata": {
        "id": "Hgz20knREMkM"
      }
    },
    {
      "cell_type": "code",
      "source": [
        "fig = plt.figure(figsize=(9, 9))\n",
        "rows, cols = 4, 4\n",
        "for i in range(1, rows*cols+1):\n",
        "  random_idx = torch.randint(0, len(test_data), size=[1]).item()\n",
        "  image, true_label = test_data[random_idx]\n",
        "\n",
        "  predicted_label = model(image.unsqueeze(dim=0).to(device)).argmax(dim=1)\n",
        "\n",
        "  fig.add_subplot(rows, cols, i)\n",
        "  plt.imshow(image.permute(1, 2, 0), cmap=\"gray\")\n",
        "  if true_label == predicted_label:\n",
        "    color = \"g\"\n",
        "  else:\n",
        "    color = \"r\"\n",
        "  plt.title(f\"True: {classes[true_label]} | Pred: {classes[predicted_label]}\", fontsize=8, c=color)\n",
        "  plt.axis(False)"
      ],
      "metadata": {
        "id": "QKyqI-OoEN_2",
        "colab": {
          "base_uri": "https://localhost:8080/",
          "height": 746
        },
        "outputId": "11b53564-49be-417e-fc3c-c4524ad746bb"
      },
      "execution_count": 48,
      "outputs": [
        {
          "output_type": "display_data",
          "data": {
            "text/plain": [
              "<Figure size 900x900 with 16 Axes>"
            ],
            "image/png": "[encoded data removed]"
          },
          "metadata": {}
        }
      ]
    },
    {
      "cell_type": "markdown",
      "source": [
        "# Confusion matrix"
      ],
      "metadata": {
        "id": "oCyF3BF2EaXk"
      }
    },
    {
      "cell_type": "code",
      "source": [
        "matrix = np.zeros((10, 10))\n",
        "\n",
        "y_preds = []\n",
        "\n",
        "for i in tqdm(range(len(test_data))):\n",
        "  image, true_label = test_data[i]\n",
        "  predicted_label = model(image.unsqueeze(dim=0).to(device)).argmax(dim=1)\n",
        "  y_preds.append(predicted_label)\n",
        "  matrix[true_label, predicted_label] += 1"
      ],
      "metadata": {
        "id": "_gw6DMpIEcQx",
        "colab": {
          "base_uri": "https://localhost:8080/",
          "height": 49,
          "referenced_widgets": [
            "f7d3266ef48c4e159eadb04868682a78",
            "d6e72aa3750646a8a617142ba81ff8be",
            "0353b4cdba1142a9972d41fdd582725d",
            "a49c5cd122c941f7b7002ea329b83291",
            "7b85f478035a42d0a5ac3492dfb3b52e",
            "6fd4b4b5cf9e47faaebc3d0a35784103",
            "bd86f409d208477590fd538daf9a491f",
            "bb64949334524732a87d910ab2dee387",
            "14b1d85bcb78403c9b41f55191e4dfbd",
            "b3da6f390afb44a78558491c31397c5c",
            "cedcc97cd1924c6fb6068720c5750b01"
          ]
        },
        "outputId": "545b0e64-2069-4b53-992d-e908df467b25"
      },
      "execution_count": 49,
      "outputs": [
        {
          "output_type": "display_data",
          "data": {
            "text/plain": [
              "  0%|          | 0/10000 [00:00<?, ?it/s]"
            ],
            "application/vnd.jupyter.widget-view+json": {
              "version_major": 2,
              "version_minor": 0,
              "model_id": "f7d3266ef48c4e159eadb04868682a78"
            }
          },
          "metadata": {}
        }
      ]
    },
    {
      "cell_type": "code",
      "source": [
        "y_preds = torch.tensor(y_preds).squeeze()\n",
        "\n",
        "true_labels = test_data.targets\n",
        "\n",
        "confmat = ConfusionMatrix(task=\"multiclass\", num_classes=10)\n",
        "matrix = confmat(y_preds, true_labels).numpy()\n",
        "\n",
        "fig, ax = plot_confusion_matrix(conf_mat=matrix, colorbar=True, show_absolute=False, show_normed=True, class_names=classes)\n",
        "plt.show()"
      ],
      "metadata": {
        "id": "CunNKUGfEeih",
        "colab": {
          "base_uri": "https://localhost:8080/",
          "height": 490
        },
        "outputId": "07e05c8b-6ebc-437c-ab9f-0c1fe81fc91b"
      },
      "execution_count": 50,
      "outputs": [
        {
          "output_type": "display_data",
          "data": {
            "text/plain": [
              "<Figure size 640x480 with 2 Axes>"
            ],
            "image/png": "[encoded data removed]"
          },
          "metadata": {}
        }
      ]
    }
  ]
}